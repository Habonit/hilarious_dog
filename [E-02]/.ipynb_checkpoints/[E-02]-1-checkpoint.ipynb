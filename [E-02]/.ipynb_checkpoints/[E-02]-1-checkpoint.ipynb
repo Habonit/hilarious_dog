{
 "cells": [
  {
   "cell_type": "markdown",
   "id": "b74e0716",
   "metadata": {},
   "source": [
    "# [Ex-02] 1. 당뇨병 수치를 맞춰보자\n",
    "\n",
    "**1. 순서**<br>\n",
    "\n",
    "    1.1 필요한 library 및 modele을 가져오기\n",
    "    1.2 diabetes 자료를 가져와 들여다보기\n",
    "    1.3 모델에 입력할 데이터 X, 예측할 데이터 y를 준비하기\n",
    "    1.4 모델과 손실함수(mse), gradient 함수정의하기\n",
    "    1.5 하이퍼 마라미터 학습률 설정 및 모델 학습\n",
    "    1.6 test 데이터 성능 확인하기\n",
    "    1.7 데이터 시각화하기\n",
    "\n",
    "**2. 요구 조건**<br>\n",
    "    \n",
    "    1. MSE 3000이하 달성\n",
    "    2 x축에는 X 데이터의 첫 번째 컬럼을, y축에는 정답인 target 데이터를 넣어서 모델이 예측한 데이터를 시각화할 것\n",
    "\n",
    "**3. 개인적 목표**<br>\n",
    "\n",
    "    1 [Ex-01]에서 던졌던 질문에 대한 답변 또한 회고 작성 과정에 첨부하는 것\n",
    "    2. 데이터 시각화를 다양하게 해보는 것\n",
    "\n",
    "***"
   ]
  },
  {
   "cell_type": "markdown",
   "id": "516a8914",
   "metadata": {},
   "source": [
    "***\n",
    "## 1.1 필요한 library 및 modele을 가져오기\n",
    "\n",
    "+ 어떤 method에 어떤 module이 필요한지도 함께 공부하기 위해, method 사용 직전에 다시 한번 필요한 lib 및 mod를 import할 것\n",
    "\n",
    "***"
   ]
  },
  {
   "cell_type": "code",
   "execution_count": 1,
   "id": "e1c4a4a0",
   "metadata": {},
   "outputs": [],
   "source": [
    "import missingno as msno\n",
    "from sklearn.datasets import load_diabetes\n",
    "import pandas as pd\n",
    "import numpy as np\n",
    "from sklearn.model_selection import train_test_split\n",
    "from sklearn.linear_model import LinearRegression\n",
    "import matplotlib.pyplot as plt "
   ]
  },
  {
   "cell_type": "markdown",
   "id": "33095f44",
   "metadata": {},
   "source": [
    "***\n",
    "## 1.2 diabetes 자료를 가져와 들여다보기\n",
    "\n",
    "<span style=\"color:red; font-size:20px\">질문 1)</span><br>\n",
    "    변수명을 지정하는 과정에 규칙이 있을까? 질문이 생긴 이유는, 변수 이름을 설정할 때 자의적으로, 일정한 규칙 없이 진행하다보면, 나중에 어떤 변수를 사용했는지 생각이 안나는 경우가 많아서, 그 일정한 관례를 익히고 그 틀 안에서 변수를 지정한다면, 좀 낫지 않을까 싶었다. pep8 스타일 가이드에 나와 있는지 찾아봐야 할 것 같다. \n",
    "\n",
    ">https://peps.python.org/pep-0008/\n",
    "\n",
    "***"
   ]
  },
  {
   "cell_type": "code",
   "execution_count": 2,
   "id": "88d98c0e",
   "metadata": {},
   "outputs": [
    {
     "name": "stdout",
     "output_type": "stream",
     "text": [
      "diabetes_bunch 내의 keys: \n",
      "dict_keys(['data', 'target', 'frame', 'DESCR', 'feature_names', 'data_filename', 'target_filename', 'data_module'])\n",
      "\n",
      "diabetes_bunch의 type : <class 'sklearn.utils.Bunch'>\n",
      "\n"
     ]
    }
   ],
   "source": [
    "diabetes_bunch = load_diabetes()\n",
    "print(\"diabetes_bunch 내의 keys: \", diabetes_bunch.keys(), sep=\"\\n\", end=\"\\n\\n\")\n",
    "print(\"diabetes_bunch의 type :\", type(diabetes_bunch), end=\"\\n\\n\")"
   ]
  },
  {
   "cell_type": "code",
   "execution_count": 3,
   "id": "71834ab1",
   "metadata": {
    "scrolled": true
   },
   "outputs": [
    {
     "name": "stdout",
     "output_type": "stream",
     "text": [
      ".. _diabetes_dataset:\n",
      "\n",
      "Diabetes dataset\n",
      "----------------\n",
      "\n",
      "Ten baseline variables, age, sex, body mass index, average blood\n",
      "pressure, and six blood serum measurements were obtained for each of n =\n",
      "442 diabetes patients, as well as the response of interest, a\n",
      "quantitative measure of disease progression one year after baseline.\n",
      "\n",
      "**Data Set Characteristics:**\n",
      "\n",
      "  :Number of Instances: 442\n",
      "\n",
      "  :Number of Attributes: First 10 columns are numeric predictive values\n",
      "\n",
      "  :Target: Column 11 is a quantitative measure of disease progression one year after baseline\n",
      "\n",
      "  :Attribute Information:\n",
      "      - age     age in years\n",
      "      - sex\n",
      "      - bmi     body mass index\n",
      "      - bp      average blood pressure\n",
      "      - s1      tc, total serum cholesterol\n",
      "      - s2      ldl, low-density lipoproteins\n",
      "      - s3      hdl, high-density lipoproteins\n",
      "      - s4      tch, total cholesterol / HDL\n",
      "      - s5      ltg, possibly log of serum triglycerides level\n",
      "      - s6      glu, blood sugar level\n",
      "\n",
      "Note: Each of these 10 feature variables have been mean centered and scaled by the standard deviation times `n_samples` (i.e. the sum of squares of each column totals 1).\n",
      "\n",
      "Source URL:\n",
      "https://www4.stat.ncsu.edu/~boos/var.select/diabetes.html\n",
      "\n",
      "For more information see:\n",
      "Bradley Efron, Trevor Hastie, Iain Johnstone and Robert Tibshirani (2004) \"Least Angle Regression,\" Annals of Statistics (with discussion), 407-499.\n",
      "(https://web.stanford.edu/~hastie/Papers/LARS/LeastAngle_2002.pdf)\n"
     ]
    }
   ],
   "source": [
    "print(diabetes_bunch.DESCR)"
   ]
  },
  {
   "cell_type": "code",
   "execution_count": 4,
   "id": "72f5153c",
   "metadata": {},
   "outputs": [
    {
     "name": "stdout",
     "output_type": "stream",
     "text": [
      "1. diabetes의 keys : \n",
      "dict_keys(['data', 'target', 'frame', 'DESCR', 'feature_names', 'data_filename', 'target_filename', 'data_module'])\n",
      "\n",
      "2. diabetes의 data shape:  (442, 10)\n",
      "\n",
      "3. diabetes의 target shape:  (442,)\n",
      "\n",
      "4. diabetes의 feature names: \n",
      "['age', 'sex', 'bmi', 'bp', 's1', 's2', 's3', 's4', 's5', 's6']\n",
      "\n"
     ]
    }
   ],
   "source": [
    "print(\"1. diabetes의 keys : \", diabetes_bunch.keys(), sep=\"\\n\", end=\"\\n\\n\")\n",
    "print(\"2. diabetes의 data shape: \", diabetes_bunch['data'].shape, end=\"\\n\\n\")\n",
    "print(\"3. diabetes의 target shape: \", diabetes_bunch['target'].shape, end=\"\\n\\n\")\n",
    "print(\"4. diabetes의 feature names: \", diabetes_bunch['feature_names'], sep=\"\\n\", end=\"\\n\\n\")\n"
   ]
  },
  {
   "cell_type": "markdown",
   "id": "747b211f",
   "metadata": {},
   "source": [
    "#### remark1.<br>\n",
    "\n",
    "bias를 따로 설정하지 않고, diabetes DataFrame의 가장 마지막 열에 모든 데이터가 1로된 bias 열을 따로 설정한다. 이렇게 함으로써 최적 bias를 따로 찾을 필요 없이 최적 weight를 찾는 과정으로 포섭할 수 있다. \n"
   ]
  },
  {
   "cell_type": "code",
   "execution_count": 5,
   "id": "d18533bd",
   "metadata": {
    "scrolled": true
   },
   "outputs": [
    {
     "data": {
      "text/html": [
       "<div>\n",
       "<style scoped>\n",
       "    .dataframe tbody tr th:only-of-type {\n",
       "        vertical-align: middle;\n",
       "    }\n",
       "\n",
       "    .dataframe tbody tr th {\n",
       "        vertical-align: top;\n",
       "    }\n",
       "\n",
       "    .dataframe thead th {\n",
       "        text-align: right;\n",
       "    }\n",
       "</style>\n",
       "<table border=\"1\" class=\"dataframe\">\n",
       "  <thead>\n",
       "    <tr style=\"text-align: right;\">\n",
       "      <th></th>\n",
       "      <th>age</th>\n",
       "      <th>sex</th>\n",
       "      <th>bmi</th>\n",
       "      <th>bp</th>\n",
       "      <th>s1</th>\n",
       "      <th>s2</th>\n",
       "      <th>s3</th>\n",
       "      <th>s4</th>\n",
       "      <th>s5</th>\n",
       "      <th>s6</th>\n",
       "      <th>bias</th>\n",
       "    </tr>\n",
       "  </thead>\n",
       "  <tbody>\n",
       "    <tr>\n",
       "      <th>0</th>\n",
       "      <td>0.038076</td>\n",
       "      <td>0.050680</td>\n",
       "      <td>0.061696</td>\n",
       "      <td>0.021872</td>\n",
       "      <td>-0.044223</td>\n",
       "      <td>-0.034821</td>\n",
       "      <td>-0.043401</td>\n",
       "      <td>-0.002592</td>\n",
       "      <td>0.019908</td>\n",
       "      <td>-0.017646</td>\n",
       "      <td>1.0</td>\n",
       "    </tr>\n",
       "    <tr>\n",
       "      <th>1</th>\n",
       "      <td>-0.001882</td>\n",
       "      <td>-0.044642</td>\n",
       "      <td>-0.051474</td>\n",
       "      <td>-0.026328</td>\n",
       "      <td>-0.008449</td>\n",
       "      <td>-0.019163</td>\n",
       "      <td>0.074412</td>\n",
       "      <td>-0.039493</td>\n",
       "      <td>-0.068330</td>\n",
       "      <td>-0.092204</td>\n",
       "      <td>1.0</td>\n",
       "    </tr>\n",
       "    <tr>\n",
       "      <th>2</th>\n",
       "      <td>0.085299</td>\n",
       "      <td>0.050680</td>\n",
       "      <td>0.044451</td>\n",
       "      <td>-0.005671</td>\n",
       "      <td>-0.045599</td>\n",
       "      <td>-0.034194</td>\n",
       "      <td>-0.032356</td>\n",
       "      <td>-0.002592</td>\n",
       "      <td>0.002864</td>\n",
       "      <td>-0.025930</td>\n",
       "      <td>1.0</td>\n",
       "    </tr>\n",
       "    <tr>\n",
       "      <th>3</th>\n",
       "      <td>-0.089063</td>\n",
       "      <td>-0.044642</td>\n",
       "      <td>-0.011595</td>\n",
       "      <td>-0.036656</td>\n",
       "      <td>0.012191</td>\n",
       "      <td>0.024991</td>\n",
       "      <td>-0.036038</td>\n",
       "      <td>0.034309</td>\n",
       "      <td>0.022692</td>\n",
       "      <td>-0.009362</td>\n",
       "      <td>1.0</td>\n",
       "    </tr>\n",
       "    <tr>\n",
       "      <th>4</th>\n",
       "      <td>0.005383</td>\n",
       "      <td>-0.044642</td>\n",
       "      <td>-0.036385</td>\n",
       "      <td>0.021872</td>\n",
       "      <td>0.003935</td>\n",
       "      <td>0.015596</td>\n",
       "      <td>0.008142</td>\n",
       "      <td>-0.002592</td>\n",
       "      <td>-0.031991</td>\n",
       "      <td>-0.046641</td>\n",
       "      <td>1.0</td>\n",
       "    </tr>\n",
       "    <tr>\n",
       "      <th>...</th>\n",
       "      <td>...</td>\n",
       "      <td>...</td>\n",
       "      <td>...</td>\n",
       "      <td>...</td>\n",
       "      <td>...</td>\n",
       "      <td>...</td>\n",
       "      <td>...</td>\n",
       "      <td>...</td>\n",
       "      <td>...</td>\n",
       "      <td>...</td>\n",
       "      <td>...</td>\n",
       "    </tr>\n",
       "    <tr>\n",
       "      <th>437</th>\n",
       "      <td>0.041708</td>\n",
       "      <td>0.050680</td>\n",
       "      <td>0.019662</td>\n",
       "      <td>0.059744</td>\n",
       "      <td>-0.005697</td>\n",
       "      <td>-0.002566</td>\n",
       "      <td>-0.028674</td>\n",
       "      <td>-0.002592</td>\n",
       "      <td>0.031193</td>\n",
       "      <td>0.007207</td>\n",
       "      <td>1.0</td>\n",
       "    </tr>\n",
       "    <tr>\n",
       "      <th>438</th>\n",
       "      <td>-0.005515</td>\n",
       "      <td>0.050680</td>\n",
       "      <td>-0.015906</td>\n",
       "      <td>-0.067642</td>\n",
       "      <td>0.049341</td>\n",
       "      <td>0.079165</td>\n",
       "      <td>-0.028674</td>\n",
       "      <td>0.034309</td>\n",
       "      <td>-0.018118</td>\n",
       "      <td>0.044485</td>\n",
       "      <td>1.0</td>\n",
       "    </tr>\n",
       "    <tr>\n",
       "      <th>439</th>\n",
       "      <td>0.041708</td>\n",
       "      <td>0.050680</td>\n",
       "      <td>-0.015906</td>\n",
       "      <td>0.017282</td>\n",
       "      <td>-0.037344</td>\n",
       "      <td>-0.013840</td>\n",
       "      <td>-0.024993</td>\n",
       "      <td>-0.011080</td>\n",
       "      <td>-0.046879</td>\n",
       "      <td>0.015491</td>\n",
       "      <td>1.0</td>\n",
       "    </tr>\n",
       "    <tr>\n",
       "      <th>440</th>\n",
       "      <td>-0.045472</td>\n",
       "      <td>-0.044642</td>\n",
       "      <td>0.039062</td>\n",
       "      <td>0.001215</td>\n",
       "      <td>0.016318</td>\n",
       "      <td>0.015283</td>\n",
       "      <td>-0.028674</td>\n",
       "      <td>0.026560</td>\n",
       "      <td>0.044528</td>\n",
       "      <td>-0.025930</td>\n",
       "      <td>1.0</td>\n",
       "    </tr>\n",
       "    <tr>\n",
       "      <th>441</th>\n",
       "      <td>-0.045472</td>\n",
       "      <td>-0.044642</td>\n",
       "      <td>-0.073030</td>\n",
       "      <td>-0.081414</td>\n",
       "      <td>0.083740</td>\n",
       "      <td>0.027809</td>\n",
       "      <td>0.173816</td>\n",
       "      <td>-0.039493</td>\n",
       "      <td>-0.004220</td>\n",
       "      <td>0.003064</td>\n",
       "      <td>1.0</td>\n",
       "    </tr>\n",
       "  </tbody>\n",
       "</table>\n",
       "<p>442 rows × 11 columns</p>\n",
       "</div>"
      ],
      "text/plain": [
       "          age       sex       bmi        bp        s1        s2        s3  \\\n",
       "0    0.038076  0.050680  0.061696  0.021872 -0.044223 -0.034821 -0.043401   \n",
       "1   -0.001882 -0.044642 -0.051474 -0.026328 -0.008449 -0.019163  0.074412   \n",
       "2    0.085299  0.050680  0.044451 -0.005671 -0.045599 -0.034194 -0.032356   \n",
       "3   -0.089063 -0.044642 -0.011595 -0.036656  0.012191  0.024991 -0.036038   \n",
       "4    0.005383 -0.044642 -0.036385  0.021872  0.003935  0.015596  0.008142   \n",
       "..        ...       ...       ...       ...       ...       ...       ...   \n",
       "437  0.041708  0.050680  0.019662  0.059744 -0.005697 -0.002566 -0.028674   \n",
       "438 -0.005515  0.050680 -0.015906 -0.067642  0.049341  0.079165 -0.028674   \n",
       "439  0.041708  0.050680 -0.015906  0.017282 -0.037344 -0.013840 -0.024993   \n",
       "440 -0.045472 -0.044642  0.039062  0.001215  0.016318  0.015283 -0.028674   \n",
       "441 -0.045472 -0.044642 -0.073030 -0.081414  0.083740  0.027809  0.173816   \n",
       "\n",
       "           s4        s5        s6  bias  \n",
       "0   -0.002592  0.019908 -0.017646   1.0  \n",
       "1   -0.039493 -0.068330 -0.092204   1.0  \n",
       "2   -0.002592  0.002864 -0.025930   1.0  \n",
       "3    0.034309  0.022692 -0.009362   1.0  \n",
       "4   -0.002592 -0.031991 -0.046641   1.0  \n",
       "..        ...       ...       ...   ...  \n",
       "437 -0.002592  0.031193  0.007207   1.0  \n",
       "438  0.034309 -0.018118  0.044485   1.0  \n",
       "439 -0.011080 -0.046879  0.015491   1.0  \n",
       "440  0.026560  0.044528 -0.025930   1.0  \n",
       "441 -0.039493 -0.004220  0.003064   1.0  \n",
       "\n",
       "[442 rows x 11 columns]"
      ]
     },
     "execution_count": 5,
     "metadata": {},
     "output_type": "execute_result"
    }
   ],
   "source": [
    "diabetes_pd = pd.DataFrame(diabetes_bunch['data'])\n",
    "diabetes_pd.columns = diabetes_bunch['feature_names']\n",
    "bias = np.ones(442,)\n",
    "diabetes_pd['bias'] = bias\n",
    "diabetes_pd"
   ]
  },
  {
   "cell_type": "markdown",
   "id": "e4eb8eee",
   "metadata": {},
   "source": [
    "<span style=\"color:red; font-size:20px\">질문 2)</span><br><br>\n",
    "    \n",
    "    - 해당 자료는 n(표본의 크기) = 442, 열의 합은 1임을 알 수 있다. \n",
    "    - 모든 열의 합은 1의 근사치이며 각 열의 표준편차는 0.047619이다. \n",
    "    - 표본표준편차를 구할 땐 시그마(편차^2)/(n-1)로 구한다.\n",
    "    - 표본표준편차(0.047619)에 루트(n-1)인 21을 곱하면 1이 나온다.\n",
    "    여기서 우리는 해당 자료가 표준정규분포(평균=0, 표준편차=1)에서 크기 442짜리 표본을 추출했다고 추측할 수 있다.\n",
    "    -이러한 경향이 모든 열에서 동일하게 보여서 구글링을 해보았더니 다음과 같이 출력되었다. \n",
    "    \n",
    ">Each of these 10 feature variables have been mean centered and scaled by the standard deviation times the square root of n_samples (i.e. the sum of squares of each column totals 1).<br><br>\n",
    ">https://scikit-learn.org/stable/datasets/toy_dataset.html#diabetes-dataset\n",
    "\n",
    "    - 검색 결과 관측자료를 mean_centering했다는 것은, 기초 관측자료를 평균에서 뺀다음 표준편차로 나눴다는 의미이다.\n",
    "    - 즉, 이는 관측데이터를 정규화 한 후에, 이를 평균이 0, 표준편차가 1인 standard normal distribution으로 표준화를 시킨 것이다. \n",
    "    - 그 후에, 442개의 데이터를 임의 추출하여 작성한 데이터가 위의 데이터임을 알 수 있다. \n",
    "    - 다만, 아무리 찾아봐도 성별과 같은 nominal data가,무엇을 나타내고 있는지는 알 수 없다. 남자가 0인지 1인지, 여자가 0인지 1인지 등은 DESCR에도 나와있지 않았다. "
   ]
  },
  {
   "cell_type": "markdown",
   "id": "2445dc3e",
   "metadata": {},
   "source": [
    "***\n",
    "## 1.3 모델에 입력할 데이터 X, 예측할 데이터 y를 준비하기\n",
    "\n",
    "***"
   ]
  },
  {
   "cell_type": "code",
   "execution_count": 6,
   "id": "b1706db7",
   "metadata": {},
   "outputs": [
    {
     "data": {
      "text/plain": [
       "<AxesSubplot:>"
      ]
     },
     "execution_count": 6,
     "metadata": {},
     "output_type": "execute_result"
    },
    {
     "data": {
      "image/png": "[encoded data removed]",
      "text/plain": [
       "<Figure size 1800x720 with 2 Axes>"
      ]
     },
     "metadata": {
      "needs_background": "light"
     },
     "output_type": "display_data"
    }
   ],
   "source": [
    "import missingno as msno\n",
    "\n",
    "msno.matrix(diabetes_pd, color=(0.1, 0.6, 0.8))"
   ]
  },
  {
   "cell_type": "code",
   "execution_count": 7,
   "id": "dca60c6b",
   "metadata": {},
   "outputs": [
    {
     "name": "stdout",
     "output_type": "stream",
     "text": [
      "X_train의 shape :  (353, 11)\n",
      "X_test의 shape :  (89, 11)\n",
      "y_train의 shape :  (353,)\n",
      "y_test의 shape :  (89,)\n"
     ]
    }
   ],
   "source": [
    "from sklearn.model_selection import train_test_split\n",
    "\n",
    "X_train, X_test, y_train, y_test = train_test_split(\n",
    "    diabetes_pd.values,\n",
    "    diabetes_bunch['target'],\n",
    "    test_size=0.2, \n",
    "    random_state=42)\n",
    "\n",
    "print(\"X_train의 shape : \", X_train.shape)\n",
    "print(\"X_test의 shape : \", X_test.shape)\n",
    "print(\"y_train의 shape : \", y_train.shape)\n",
    "print(\"y_test의 shape : \", y_test.shape)"
   ]
  },
  {
   "cell_type": "markdown",
   "id": "82c1b97a",
   "metadata": {},
   "source": [
    "***\n",
    "## 1.4 모델과 손실함수(mse), gradient 함수정의하기 \n",
    "\n",
    "***"
   ]
  },
  {
   "cell_type": "code",
   "execution_count": 8,
   "id": "8c810b67",
   "metadata": {},
   "outputs": [],
   "source": [
    "def linear_regression(X, w):\n",
    "    y_pred = np.dot(X, w)\n",
    "    return y_pred"
   ]
  },
  {
   "cell_type": "code",
   "execution_count": 9,
   "id": "b87aea18",
   "metadata": {},
   "outputs": [],
   "source": [
    "def mse(y_pred, y):\n",
    "    mean_squared_error = ((y_pred - y) ** 2).mean()\n",
    "    return mean_squared_error"
   ]
  },
  {
   "cell_type": "code",
   "execution_count": 10,
   "id": "382997e0",
   "metadata": {},
   "outputs": [],
   "source": [
    "# X는 train, y는 train / x는 test, y는 test\n",
    "def loss(X, w, y):\n",
    "    y_pred = linear_regression(X, w)\n",
    "    mean_squared_error = mse(y_pred, y)\n",
    "    return mean_squared_error"
   ]
  },
  {
   "cell_type": "code",
   "execution_count": 11,
   "id": "e08f05ae",
   "metadata": {},
   "outputs": [],
   "source": [
    "def gradient(X, w, y):\n",
    "    m = len(y)\n",
    "    y_pred = linear_regression(X, w)\n",
    "    dl_dw = (2/m) * np.dot(X.T, (y_pred - y))\n",
    "    return dl_dw"
   ]
  },
  {
   "cell_type": "markdown",
   "id": "b5c5c7c2",
   "metadata": {},
   "source": [
    "#### remark2.<br>\n",
    "\n",
    "X_train의 shape가 353 by 11 행렬이니, 초기 w의 shape은 (11,)이 되어야 한다.\n",
    "\n",
    "#### remark3.<br>\n",
    "\n",
    "    1) Parameter: 매개변수, 모델 내부적으로 결정되는 값. 예를 들어서 학생 키에 대한 정규분포를 그린다고 했을 때, 해당 normal distribution에 대해 mean과 std는 모델 내부적으로 결정되는 매개변수이다. 사용자에 의해 조정되지 않는다.\n",
    "\n",
    "    2) Hyper Parameter: 모델링을 할 때 사용자가 직접 세팅해줘야 하는 값. 하이퍼 파라미터는 정해진 최적의 값이 없다. Heuristic한 방법이나 경험 법칙에 의해 결정해야 하는 경우가 많다. 물론, 베이지안 옵티미제이션과 같이 자동으로 하이퍼 파라미터를 선택해주는 라이브러리가 존재하기도 한다.\n",
    "    \n",
    ">https://bkshin.tistory.com/entry/%EB%A8%B8%EC%8B%A0%EB%9F%AC%EB%8B%9D-13-%ED%8C%8C%EB%9D%BC%EB%AF%B8%ED%84%B0Parameter%EC%99%80-%ED%95%98%EC%9D%B4%ED%8D%BC-%ED%8C%8C%EB%9D%BC%EB%AF%B8%ED%84%B0Hyper-parameter"
   ]
  },
  {
   "cell_type": "markdown",
   "id": "adfc1d2a",
   "metadata": {},
   "source": [
    "***\n",
    "## 1.5 하이퍼 마라미터 학습률 설정 및 모델 학습 \n",
    "\n",
    "+ LinearRegression을 수행하고 있기 때문에 모델 학습을 한다는 것은 MSE가 최소가 되는 Weigh를 찾아가는 과정으로 요약할 수 있다. \n",
    "\n",
    "***"
   ]
  },
  {
   "cell_type": "code",
   "execution_count": 12,
   "id": "f07f182c",
   "metadata": {
    "scrolled": true
   },
   "outputs": [
    {
     "name": "stdout",
     "output_type": "stream",
     "text": [
      "Iteration 100 : Loss 5372.722827584212\n",
      "Iteration 200 : Loss 4872.522016748148\n",
      "Iteration 300 : Loss 4500.4724963960525\n",
      "Iteration 400 : Loss 4220.052723543679\n",
      "Iteration 500 : Loss 4005.5684145427963\n",
      "Iteration 600 : Loss 3838.898158023668\n",
      "Iteration 700 : Loss 3707.2218992175817\n",
      "Iteration 800 : Loss 3601.434954411444\n",
      "Iteration 900 : Loss 3515.0402211470914\n",
      "Iteration 1000 : Loss 3443.374005059898\n",
      "Iteration 1100 : Loss 3383.064639649846\n",
      "Iteration 1200 : Loss 3331.653583823532\n",
      "Iteration 1300 : Loss 3287.3299547230176\n",
      "Iteration 1400 : Loss 3248.744286615069\n",
      "Iteration 1500 : Loss 3214.877650134607\n",
      "Iteration 1600 : Loss 3184.9494792836963\n",
      "Iteration 1700 : Loss 3158.3524840118816\n",
      "Iteration 1800 : Loss 3134.6065347142053\n",
      "Iteration 1900 : Loss 3113.32585227945\n",
      "Iteration 2000 : Loss 3094.1955446154234\n",
      "Iteration 2100 : Loss 3076.9547218311336\n",
      "Iteration 2200 : Loss 3061.384253624254\n",
      "Iteration 2300 : Loss 3047.2978127889874\n",
      "Iteration 2400 : Loss 3034.535254046861\n",
      "Iteration 2500 : Loss 3022.9576605530233\n",
      "Iteration 2600 : Loss 3012.443588361962\n",
      "Iteration 2700 : Loss 3002.8861775962837\n",
      "Iteration 2800 : Loss 2994.1908960070814\n",
      "Iteration 2900 : Loss 2986.273748569937\n",
      "Iteration 3000 : Loss 2979.059834464323\n",
      "Iteration 3100 : Loss 2972.482166332392\n",
      "Iteration 3200 : Loss 2966.4806903604085\n",
      "Iteration 3300 : Loss 2961.0014624420305\n",
      "Iteration 3400 : Loss 2955.9959475408045\n",
      "Iteration 3500 : Loss 2951.4204178183886\n",
      "Iteration 3600 : Loss 2947.2354311473314\n",
      "Iteration 3700 : Loss 2943.4053759909234\n",
      "Iteration 3800 : Loss 2939.898071803272\n",
      "Iteration 3900 : Loss 2936.68441642762\n",
      "Iteration 4000 : Loss 2933.7380736937475\n",
      "Iteration 4100 : Loss 2931.0351957072453\n",
      "Iteration 4200 : Loss 2928.554175305283\n",
      "Iteration 4300 : Loss 2926.2754249102472\n",
      "Iteration 4400 : Loss 2924.1811786047706\n",
      "Iteration 4500 : Loss 2922.255314722074\n",
      "Iteration 4600 : Loss 2920.4831966248853\n",
      "Iteration 4700 : Loss 2918.851529656605\n",
      "Iteration 4800 : Loss 2917.3482325058153\n",
      "Iteration 4900 : Loss 2915.9623214412813\n",
      "Iteration 5000 : Loss 2914.683806058098\n",
      "Iteration 5100 : Loss 2913.5035953327283\n",
      "Iteration 5200 : Loss 2912.4134129204954\n",
      "Iteration 5300 : Loss 2911.405720747157\n",
      "Iteration 5400 : Loss 2910.4736500494982\n",
      "Iteration 5500 : Loss 2909.610939110656\n",
      "Iteration 5600 : Loss 2908.8118770160263\n",
      "Iteration 5700 : Loss 2908.071252826464\n",
      "Iteration 5800 : Loss 2907.3843096284495\n",
      "Iteration 5900 : Loss 2906.7467029768354\n",
      "Iteration 6000 : Loss 2906.154463295625\n",
      "Iteration 6100 : Loss 2905.603961846742\n",
      "Iteration 6200 : Loss 2905.0918799164524\n",
      "Iteration 6300 : Loss 2904.6151809046187\n",
      "Iteration 6400 : Loss 2904.1710850337704\n",
      "Iteration 6500 : Loss 2903.757046423431\n",
      "Iteration 6600 : Loss 2903.370732300643\n",
      "Iteration 6700 : Loss 2903.010004140525\n",
      "Iteration 6800 : Loss 2902.672900551199\n",
      "Iteration 6900 : Loss 2902.3576217358377\n",
      "Iteration 7000 : Loss 2902.062515381145\n",
      "Iteration 7100 : Loss 2901.7860638364\n",
      "Iteration 7200 : Loss 2901.526872460568\n",
      "Iteration 7300 : Loss 2901.283659026976\n",
      "Iteration 7400 : Loss 2901.0552440858282\n",
      "Iteration 7500 : Loss 2900.8405421945663\n",
      "Iteration 7600 : Loss 2900.6385539347884\n",
      "Iteration 7700 : Loss 2900.448358642322\n",
      "Iteration 7800 : Loss 2900.2691077841187\n",
      "Iteration 7900 : Loss 2900.10001892202\n",
      "Iteration 8000 : Loss 2899.9403702091827\n"
     ]
    }
   ],
   "source": [
    "# learning_rate : 하이퍼 파라미터\n",
    "# dl_dw : 편미분을 통해 계산한 w의 순간변화율\n",
    "\n",
    "losses = []\n",
    "learning_rate = 0.1\n",
    "w = np.ones(11,)\n",
    "\n",
    "for i in range(1, 8001):\n",
    "    dl_dw = gradient(X_train, w, y_train)\n",
    "    w -= learning_rate * dl_dw\n",
    "    mean_squared_error = loss(X_train, w, y_train)\n",
    "    losses.append(mean_squared_error)\n",
    "    if (i % 100) == 0:\n",
    "        print(\"Iteration {} : Loss {}\".format(i, mean_squared_error))"
   ]
  },
  {
   "cell_type": "markdown",
   "id": "419dd3c9",
   "metadata": {},
   "source": [
    "#### remark4.\n",
    "\n",
    "iteration값을 충분히 높였을 때 특정 값으로 수렴하고 있음을 확인할 수 있다."
   ]
  },
  {
   "cell_type": "code",
   "execution_count": 13,
   "id": "c52dfda5",
   "metadata": {},
   "outputs": [
    {
     "data": {
      "image/png": "[encoded data removed]",
      "text/plain": [
       "<Figure size 432x288 with 1 Axes>"
      ]
     },
     "metadata": {
      "needs_background": "light"
     },
     "output_type": "display_data"
    }
   ],
   "source": [
    "plt.plot(losses)\n",
    "plt.grid(True)\n",
    "plt.xlabel(\"Iteration\")\n",
    "plt.ylabel(\"MSE\")\n",
    "plt.show()"
   ]
  },
  {
   "cell_type": "markdown",
   "id": "e4570fc1",
   "metadata": {},
   "source": [
    "***\n",
    "## 1.6 test 데이터 성능 확인하기  \n",
    "\n",
    "+ 모델 학습 결과 얻은 w를 가지고 X_test, y_test 간의 mse를 구해봤더니 X_train, y_train 데이터와의 mse와 거의 유사하다\n",
    "    \n",
    "***"
   ]
  },
  {
   "cell_type": "markdown",
   "id": "26311bae",
   "metadata": {},
   "source": [
    "#### remark5.<br>\n",
    "\n",
    "loss가 충분히 수렴할 때의 w를 구하였다. 이 때 w의 마지막 element는 bias이다.\n",
    "\n",
    "<span style=\"color:red; font-size:20px\">질문 3)</span><br><br>\n",
    "\n",
    "오류가 이렇게 크게 발생하는 이유는, x값의 분포가 (-0.2,0.2)인 반면, target데이터는 최대값이 300을 넘어가는 상황이 벌어지기 때문이다. 이를 방지하기 위해서, target 데이터 또한 관측 데이터를 scaling하듯, 변환시켜줘야 하는 것 아닌가 하는 생각이 든다. "
   ]
  },
  {
   "cell_type": "code",
   "execution_count": 14,
   "id": "ab0ab353",
   "metadata": {},
   "outputs": [
    {
     "name": "stdout",
     "output_type": "stream",
     "text": [
      "X_train과 y_train 간의 mse : 2899.9403702091827\n",
      "\n",
      "weight : \n",
      "\n",
      "[  39.48127586 -230.87884751  542.56924208  337.73627893  -90.29859464\n",
      " -128.70306272 -217.55471955  146.96000157  402.34427703   83.03968916\n",
      "  151.31140078]\n",
      "\n"
     ]
    }
   ],
   "source": [
    "print(\"X_train과 y_train 간의 mse :\", losses[-1], end=\"\\n\\n\")\n",
    "print(\"weight : \", w, sep=\"\\n\\n\", end=\"\\n\\n\")"
   ]
  },
  {
   "cell_type": "code",
   "execution_count": 15,
   "id": "ee1c3f5b",
   "metadata": {},
   "outputs": [
    {
     "name": "stdout",
     "output_type": "stream",
     "text": [
      "X_test와 y_test 간의 mse: \n",
      "\n",
      "2876.6090332635877\n",
      "\n"
     ]
    }
   ],
   "source": [
    "print(\"X_test와 y_test 간의 mse: \", loss(X_test, w, y_test), sep=\"\\n\\n\", end=\"\\n\\n\")\n"
   ]
  },
  {
   "cell_type": "markdown",
   "id": "1253b68d",
   "metadata": {},
   "source": [
    "***\n",
    "## 1.7 데이터 시각화하기 \n",
    "\n",
    "+ x축에는 X 데이터의 첫 번째 컬럼, 즉 age 값, y축에는 target데이터를 넣어서 비교하였다.\n",
    "\n",
    "+ 각 feature 별 target 데이터와의 Pearson Correlation Coefficient 구해서 plot으로 나타냈다.\n",
    "    \n",
    "***"
   ]
  },
  {
   "cell_type": "code",
   "execution_count": 16,
   "id": "e988ace1",
   "metadata": {},
   "outputs": [
    {
     "data": {
      "image/png": "[encoded data removed]",
      "text/plain": [
       "<Figure size 864x648 with 1 Axes>"
      ]
     },
     "metadata": {
      "needs_background": "light"
     },
     "output_type": "display_data"
    }
   ],
   "source": [
    "plt.figure(figsize=(12,9))\n",
    "plt.scatter(x=X_test[:,0], y=y_test)\n",
    "plt.scatter(x=X_test[:,0], y=linear_regression(X_test, w))\n",
    "plt.xlim([-0.15,0.15])\n",
    "plt.ylim([-100,400])\n",
    "plt.xlabel(\"age\", )\n",
    "plt.ylabel(\"target\")\n",
    "plt.title(\"Age-Target Scatter Between y-test And y-prediction\")\n",
    "plt.show()"
   ]
  },
  {
   "cell_type": "code",
   "execution_count": 17,
   "id": "9f35e72a",
   "metadata": {},
   "outputs": [
    {
     "name": "stdout",
     "output_type": "stream",
     "text": [
      "{'age': 0.18788875071891978, 'sex': 0.04306199845160543, 'bmi': 0.5864501344746884, 'bp': 0.44148384893088616, 's1': 0.2120224810145507, 's2': 0.17405358696874237, 's3': -0.3947892506709179, 's4': 0.43045288474477267, 's5': 0.5658834252428095, 's6': 0.38248348424858064}\n"
     ]
    }
   ],
   "source": [
    "corr_dict={}\n",
    "\n",
    "for col in diabetes_pd.columns[:-1]:\n",
    "    temp_data = np.array([diabetes_pd[col].values, diabetes_bunch['target']]).T\n",
    "    corr = pd.DataFrame(temp_data).corr(method='pearson', min_periods=1)\n",
    "    corr_dict[col] = corr.iloc[1,0]\n",
    "\n",
    "print(corr_dict)"
   ]
  },
  {
   "cell_type": "markdown",
   "id": "cce559af",
   "metadata": {},
   "source": [
    "#### remark6.\n",
    "\n",
    "피어슨 상관계수로 유의미한 관계를 알 수 있는 것은 bmi와 s5 정도였다. 이 둘은 target 데이터와 weak positive relation을 갖고 있다는 가설을 세울 수 있다. 다만, 해당 가설은 p-value를 통해 검증해봐야 한다."
   ]
  },
  {
   "cell_type": "code",
   "execution_count": 18,
   "id": "0de2cf2a",
   "metadata": {},
   "outputs": [
    {
     "data": {
      "image/png": "[encoded data removed]",
      "text/plain": [
       "<Figure size 864x648 with 1 Axes>"
      ]
     },
     "metadata": {
      "needs_background": "light"
     },
     "output_type": "display_data"
    }
   ],
   "source": [
    "plt.figure(figsize=(12,9))\n",
    "\n",
    "plt.plot(list(corr_dict.keys()), list(corr_dict.values()), 'ro-')\n",
    "plt.grid(True, axis='y')\n",
    "plt.ylabel(\"Pearson Correlation Coefficient\")\n",
    "plt.title(\"\")\n",
    "plt.show()"
   ]
  }
 ],
 "metadata": {
  "kernelspec": {
   "display_name": "Python 3 (ipykernel)",
   "language": "python",
   "name": "python3"
  },
  "language_info": {
   "codemirror_mode": {
    "name": "ipython",
    "version": 3
   },
   "file_extension": ".py",
   "mimetype": "text/x-python",
   "name": "python",
   "nbconvert_exporter": "python",
   "pygments_lexer": "ipython3",
   "version": "3.9.12"
  }
 },
 "nbformat": 4,
 "nbformat_minor": 5
}
